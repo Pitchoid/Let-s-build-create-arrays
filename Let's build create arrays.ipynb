{
 "cells": [
  {
   "cell_type": "code",
   "execution_count": 14,
   "id": "d4c63c0f",
   "metadata": {},
   "outputs": [
    {
     "name": "stdout",
     "output_type": "stream",
     "text": [
      "[[1 2 3]\n",
      " [4 5 6]\n",
      " [7 8 9]]\n",
      "<class 'numpy.ndarray'>\n",
      "[[1, 2, 3], [4, 5, 6], [7, 8, 9]]\n",
      "<class 'list'>\n"
     ]
    }
   ],
   "source": [
    "import numpy as np\n",
    "bbb = np.array([[1, 2, 3], [4, 5, 6],[7,8,9]])\n",
    "print(bbb)\n",
    "print (type(bbb))\n",
    "ghgh = bbb.tolist()\n",
    "print(ghgh)\n",
    "print(type(ghgh))"
   ]
  },
  {
   "cell_type": "code",
   "execution_count": 16,
   "id": "881a0ebe",
   "metadata": {},
   "outputs": [
    {
     "name": "stdout",
     "output_type": "stream",
     "text": [
      "[[15]]\n"
     ]
    }
   ],
   "source": [
    "import numpy as np\n",
    "              \n",
    "gfg = np.matrix([[1, 2, 3], [4, 5, 6],[7,8,9]])\n",
    "              \n",
    "geek = gfg.trace()\n",
    "    \n",
    "print(geek)"
   ]
  },
  {
   "cell_type": "code",
   "execution_count": 23,
   "id": "087b114b",
   "metadata": {},
   "outputs": [
    {
     "name": "stdout",
     "output_type": "stream",
     "text": [
      "Original array: \n",
      "[[1 2 3]\n",
      " [4 5 6]\n",
      " [7 8 9]]\n",
      "Values bigger than 5 = [6 7 8 9]\n",
      "Values smaller than 5 = [1 2 3 4]\n"
     ]
    }
   ],
   "source": [
    "import numpy as np\n",
    "x = np.array([[1, 2, 3], [4, 5, 6],[7,8,9]])\n",
    "print(\"Original array: \")\n",
    "print(x)\n",
    "print(\"Values bigger than 5 =\", x[x>5])\n",
    "print(\"Values smaller than 5 =\", x[x<5])\n"
   ]
  },
  {
   "cell_type": "code",
   "execution_count": 33,
   "id": "6b98f0e3",
   "metadata": {},
   "outputs": [
    {
     "name": "stdout",
     "output_type": "stream",
     "text": [
      "C :  [[ 2  4  6]\n",
      " [ 8 10 12]\n",
      " [14 16 18]]\n"
     ]
    }
   ],
   "source": [
    "import numpy as np\n",
    "  \n",
    "A = np.array([[1, 2, 3], [4, 5, 6],[7,8,9]])\n",
    "B = np.array([[1, 2, 3], [4, 5, 6],[7,8,9]])\n",
    "\n",
    "C = np.add(A,B ) \n",
    "print (\"C : \", C) "
   ]
  },
  {
   "cell_type": "code",
   "execution_count": 49,
   "id": "dd5488f1",
   "metadata": {},
   "outputs": [
    {
     "name": "stdout",
     "output_type": "stream",
     "text": [
      "[20, 2, 7, 1, 34]\n",
      "arr :  [20, 2, 7, 1, 34]\n",
      "mean of arr :  12.8\n",
      " [  7.2 -10.8  -5.8 -11.8  21.2]\n"
     ]
    }
   ],
   "source": [
    "import numpy as np\n",
    "\n",
    "arr = [20, 2, 7, 1, 34]\n",
    "print(arr)\n",
    "print(\"arr : \", arr) \n",
    "print(\"mean of arr : \", np.mean(arr))\n",
    "print(\"\",arr- np.mean(arr))"
   ]
  }
 ],
 "metadata": {
  "kernelspec": {
   "display_name": "Python 3 (ipykernel)",
   "language": "python",
   "name": "python3"
  },
  "language_info": {
   "codemirror_mode": {
    "name": "ipython",
    "version": 3
   },
   "file_extension": ".py",
   "mimetype": "text/x-python",
   "name": "python",
   "nbconvert_exporter": "python",
   "pygments_lexer": "ipython3",
   "version": "3.9.12"
  }
 },
 "nbformat": 4,
 "nbformat_minor": 5
}
